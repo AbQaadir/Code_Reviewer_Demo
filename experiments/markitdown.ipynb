{
 "cells": [
  {
   "cell_type": "code",
   "execution_count": 1,
   "metadata": {},
   "outputs": [
    {
     "name": "stdout",
     "output_type": "stream",
     "text": [
      "Requirement already satisfied: markitdown in c:\\users\\qaadir\\appdata\\local\\programs\\python\\python312\\lib\\site-packages (0.0.1a3)\n",
      "Requirement already satisfied: beautifulsoup4 in c:\\users\\qaadir\\appdata\\local\\programs\\python\\python312\\lib\\site-packages (from markitdown) (4.12.3)\n",
      "Requirement already satisfied: charset-normalizer in c:\\users\\qaadir\\appdata\\local\\programs\\python\\python312\\lib\\site-packages (from markitdown) (3.4.0)\n",
      "Requirement already satisfied: mammoth in c:\\users\\qaadir\\appdata\\local\\programs\\python\\python312\\lib\\site-packages (from markitdown) (1.8.0)\n",
      "Requirement already satisfied: markdownify in c:\\users\\qaadir\\appdata\\local\\programs\\python\\python312\\lib\\site-packages (from markitdown) (0.14.1)\n",
      "Requirement already satisfied: numpy in c:\\users\\qaadir\\appdata\\local\\programs\\python\\python312\\lib\\site-packages (from markitdown) (1.26.4)\n",
      "Requirement already satisfied: openai in c:\\users\\qaadir\\appdata\\local\\programs\\python\\python312\\lib\\site-packages (from markitdown) (1.55.0)\n",
      "Requirement already satisfied: openpyxl in c:\\users\\qaadir\\appdata\\local\\programs\\python\\python312\\lib\\site-packages (from markitdown) (3.1.5)\n",
      "Requirement already satisfied: pandas in c:\\users\\qaadir\\appdata\\local\\programs\\python\\python312\\lib\\site-packages (from markitdown) (2.2.3)\n",
      "Requirement already satisfied: pathvalidate in c:\\users\\qaadir\\appdata\\local\\programs\\python\\python312\\lib\\site-packages (from markitdown) (3.2.1)\n",
      "Requirement already satisfied: pdfminer-six in c:\\users\\qaadir\\appdata\\local\\programs\\python\\python312\\lib\\site-packages (from markitdown) (20240706)\n",
      "Requirement already satisfied: puremagic in c:\\users\\qaadir\\appdata\\local\\programs\\python\\python312\\lib\\site-packages (from markitdown) (1.28)\n",
      "Requirement already satisfied: pydub in c:\\users\\qaadir\\appdata\\local\\programs\\python\\python312\\lib\\site-packages (from markitdown) (0.25.1)\n",
      "Requirement already satisfied: python-pptx in c:\\users\\qaadir\\appdata\\local\\programs\\python\\python312\\lib\\site-packages (from markitdown) (1.0.2)\n",
      "Requirement already satisfied: requests in c:\\users\\qaadir\\appdata\\local\\programs\\python\\python312\\lib\\site-packages (from markitdown) (2.32.3)\n",
      "Requirement already satisfied: speechrecognition in c:\\users\\qaadir\\appdata\\local\\programs\\python\\python312\\lib\\site-packages (from markitdown) (3.12.0)\n",
      "Requirement already satisfied: youtube-transcript-api in c:\\users\\qaadir\\appdata\\local\\programs\\python\\python312\\lib\\site-packages (from markitdown) (0.6.3)\n",
      "Requirement already satisfied: soupsieve>1.2 in c:\\users\\qaadir\\appdata\\local\\programs\\python\\python312\\lib\\site-packages (from beautifulsoup4->markitdown) (2.6)\n",
      "Requirement already satisfied: cobble<0.2,>=0.1.3 in c:\\users\\qaadir\\appdata\\local\\programs\\python\\python312\\lib\\site-packages (from mammoth->markitdown) (0.1.4)\n",
      "Requirement already satisfied: six<2,>=1.15 in c:\\users\\qaadir\\appdata\\local\\programs\\python\\python312\\lib\\site-packages (from markdownify->markitdown) (1.16.0)\n",
      "Requirement already satisfied: anyio<5,>=3.5.0 in c:\\users\\qaadir\\appdata\\local\\programs\\python\\python312\\lib\\site-packages (from openai->markitdown) (4.6.2.post1)\n",
      "Requirement already satisfied: distro<2,>=1.7.0 in c:\\users\\qaadir\\appdata\\local\\programs\\python\\python312\\lib\\site-packages (from openai->markitdown) (1.9.0)\n",
      "Requirement already satisfied: httpx<1,>=0.23.0 in c:\\users\\qaadir\\appdata\\local\\programs\\python\\python312\\lib\\site-packages (from openai->markitdown) (0.27.2)\n",
      "Requirement already satisfied: jiter<1,>=0.4.0 in c:\\users\\qaadir\\appdata\\local\\programs\\python\\python312\\lib\\site-packages (from openai->markitdown) (0.7.1)\n",
      "Requirement already satisfied: pydantic<3,>=1.9.0 in c:\\users\\qaadir\\appdata\\local\\programs\\python\\python312\\lib\\site-packages (from openai->markitdown) (2.9.2)\n",
      "Requirement already satisfied: sniffio in c:\\users\\qaadir\\appdata\\local\\programs\\python\\python312\\lib\\site-packages (from openai->markitdown) (1.3.1)\n",
      "Requirement already satisfied: tqdm>4 in c:\\users\\qaadir\\appdata\\local\\programs\\python\\python312\\lib\\site-packages (from openai->markitdown) (4.66.5)\n",
      "Requirement already satisfied: typing-extensions<5,>=4.11 in c:\\users\\qaadir\\appdata\\local\\programs\\python\\python312\\lib\\site-packages (from openai->markitdown) (4.12.2)\n",
      "Requirement already satisfied: et-xmlfile in c:\\users\\qaadir\\appdata\\local\\programs\\python\\python312\\lib\\site-packages (from openpyxl->markitdown) (2.0.0)\n",
      "Requirement already satisfied: python-dateutil>=2.8.2 in c:\\users\\qaadir\\appdata\\local\\programs\\python\\python312\\lib\\site-packages (from pandas->markitdown) (2.9.0.post0)\n",
      "Requirement already satisfied: pytz>=2020.1 in c:\\users\\qaadir\\appdata\\local\\programs\\python\\python312\\lib\\site-packages (from pandas->markitdown) (2024.2)\n",
      "Requirement already satisfied: tzdata>=2022.7 in c:\\users\\qaadir\\appdata\\local\\programs\\python\\python312\\lib\\site-packages (from pandas->markitdown) (2024.2)\n",
      "Requirement already satisfied: cryptography>=36.0.0 in c:\\users\\qaadir\\appdata\\local\\programs\\python\\python312\\lib\\site-packages (from pdfminer-six->markitdown) (44.0.0)\n",
      "Requirement already satisfied: Pillow>=3.3.2 in c:\\users\\qaadir\\appdata\\local\\programs\\python\\python312\\lib\\site-packages (from python-pptx->markitdown) (11.0.0)\n",
      "Requirement already satisfied: XlsxWriter>=0.5.7 in c:\\users\\qaadir\\appdata\\local\\programs\\python\\python312\\lib\\site-packages (from python-pptx->markitdown) (3.2.0)\n",
      "Requirement already satisfied: lxml>=3.1.0 in c:\\users\\qaadir\\appdata\\local\\programs\\python\\python312\\lib\\site-packages (from python-pptx->markitdown) (5.3.0)\n",
      "Requirement already satisfied: idna<4,>=2.5 in c:\\users\\qaadir\\appdata\\local\\programs\\python\\python312\\lib\\site-packages (from requests->markitdown) (3.10)\n",
      "Requirement already satisfied: urllib3<3,>=1.21.1 in c:\\users\\qaadir\\appdata\\local\\programs\\python\\python312\\lib\\site-packages (from requests->markitdown) (2.2.3)\n",
      "Requirement already satisfied: certifi>=2017.4.17 in c:\\users\\qaadir\\appdata\\local\\programs\\python\\python312\\lib\\site-packages (from requests->markitdown) (2024.8.30)\n",
      "Requirement already satisfied: defusedxml<0.8.0,>=0.7.1 in c:\\users\\qaadir\\appdata\\local\\programs\\python\\python312\\lib\\site-packages (from youtube-transcript-api->markitdown) (0.7.1)\n",
      "Requirement already satisfied: cffi>=1.12 in c:\\users\\qaadir\\appdata\\local\\programs\\python\\python312\\lib\\site-packages (from cryptography>=36.0.0->pdfminer-six->markitdown) (1.17.1)\n",
      "Requirement already satisfied: httpcore==1.* in c:\\users\\qaadir\\appdata\\local\\programs\\python\\python312\\lib\\site-packages (from httpx<1,>=0.23.0->openai->markitdown) (1.0.6)\n",
      "Requirement already satisfied: h11<0.15,>=0.13 in c:\\users\\qaadir\\appdata\\local\\programs\\python\\python312\\lib\\site-packages (from httpcore==1.*->httpx<1,>=0.23.0->openai->markitdown) (0.14.0)\n",
      "Requirement already satisfied: annotated-types>=0.6.0 in c:\\users\\qaadir\\appdata\\local\\programs\\python\\python312\\lib\\site-packages (from pydantic<3,>=1.9.0->openai->markitdown) (0.7.0)\n",
      "Requirement already satisfied: pydantic-core==2.23.4 in c:\\users\\qaadir\\appdata\\local\\programs\\python\\python312\\lib\\site-packages (from pydantic<3,>=1.9.0->openai->markitdown) (2.23.4)\n",
      "Requirement already satisfied: colorama in c:\\users\\qaadir\\appdata\\local\\programs\\python\\python312\\lib\\site-packages (from tqdm>4->openai->markitdown) (0.4.6)\n",
      "Requirement already satisfied: pycparser in c:\\users\\qaadir\\appdata\\local\\programs\\python\\python312\\lib\\site-packages (from cffi>=1.12->cryptography>=36.0.0->pdfminer-six->markitdown) (2.22)\n"
     ]
    }
   ],
   "source": [
    "!pip install markitdown"
   ]
  },
  {
   "cell_type": "code",
   "execution_count": 51,
   "metadata": {},
   "outputs": [
    {
     "ename": "ModuleNotFoundError",
     "evalue": "No module named 'markitdown'",
     "output_type": "error",
     "traceback": [
      "\u001b[1;31m---------------------------------------------------------------------------\u001b[0m",
      "\u001b[1;31mModuleNotFoundError\u001b[0m                       Traceback (most recent call last)",
      "Cell \u001b[1;32mIn[51], line 1\u001b[0m\n\u001b[1;32m----> 1\u001b[0m \u001b[38;5;28;01mfrom\u001b[39;00m \u001b[38;5;21;01mmarkitdown\u001b[39;00m \u001b[38;5;28;01mimport\u001b[39;00m MarkItDow\n",
      "\u001b[1;31mModuleNotFoundError\u001b[0m: No module named 'markitdown'"
     ]
    }
   ],
   "source": [
    "from markitdown import MarkItDow"
   ]
  },
  {
   "cell_type": "code",
   "execution_count": null,
   "metadata": {},
   "outputs": [],
   "source": []
  },
  {
   "cell_type": "code",
   "execution_count": null,
   "metadata": {},
   "outputs": [],
   "source": []
  },
  {
   "cell_type": "code",
   "execution_count": null,
   "metadata": {},
   "outputs": [],
   "source": []
  },
  {
   "cell_type": "code",
   "execution_count": null,
   "metadata": {},
   "outputs": [],
   "source": []
  },
  {
   "cell_type": "code",
   "execution_count": null,
   "metadata": {},
   "outputs": [],
   "source": []
  },
  {
   "cell_type": "code",
   "execution_count": null,
   "metadata": {},
   "outputs": [],
   "source": []
  },
  {
   "cell_type": "code",
   "execution_count": null,
   "metadata": {},
   "outputs": [],
   "source": []
  },
  {
   "cell_type": "code",
   "execution_count": null,
   "metadata": {},
   "outputs": [],
   "source": []
  },
  {
   "cell_type": "code",
   "execution_count": null,
   "metadata": {},
   "outputs": [],
   "source": []
  },
  {
   "cell_type": "code",
   "execution_count": null,
   "metadata": {},
   "outputs": [],
   "source": []
  }
 ],
 "metadata": {
  "kernelspec": {
   "display_name": ".venv",
   "language": "python",
   "name": "python3"
  },
  "language_info": {
   "codemirror_mode": {
    "name": "ipython",
    "version": 3
   },
   "file_extension": ".py",
   "mimetype": "text/x-python",
   "name": "python",
   "nbconvert_exporter": "python",
   "pygments_lexer": "ipython3",
   "version": "3.11.10"
  }
 },
 "nbformat": 4,
 "nbformat_minor": 2
}
